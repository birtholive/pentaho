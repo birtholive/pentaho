{
 "cells": [
  {
   "cell_type": "code",
   "execution_count": null,
   "metadata": {},
   "outputs": [],
   "source": [
    "from selenium.webdriver.common.by import By\n",
    "from selenium import webdriver\n",
    "\n",
    "navegador = webdriver.Chrome()\n",
    "navegador.get(\"https://www.conab.gov.br/info-agro/safras/serie-historica-das-safras/itemlist/category/913-trigo\")\n",
    "# navegador.find_element(\"xpath\",'//*[@id=\"k2Container\"]/div[2]/div/div[1]/div[4]/div/ul/li/a').click()\n",
    "# https://www.conab.gov.br/info-agro/safras/serie-historica-das-safras/item/download/53600_d977a496dafb042f7411a979e024ab38"
   ]
  },
  {
   "cell_type": "code",
   "execution_count": null,
   "metadata": {},
   "outputs": [],
   "source": [
    "elemento = navegador.find_elements(By.XPATH, \"//a[@title='TrigoSerieHist.xls']\")\n",
    "print(elemento)"
   ]
  },
  {
   "cell_type": "code",
   "execution_count": null,
   "metadata": {},
   "outputs": [],
   "source": [
    "elemento = navegador.find_elements(By.PARTIAL_LINK_TEXT, \"/info-agro/safras/serie-historica-das-safras/item/download/53600_d977a496dafb042f7411a979e024ab38\")\n",
    "print(elemento)"
   ]
  }
 ],
 "metadata": {
  "kernelspec": {
   "display_name": "Python 3",
   "language": "python",
   "name": "python3"
  },
  "language_info": {
   "codemirror_mode": {
    "name": "ipython",
    "version": 3
   },
   "file_extension": ".py",
   "mimetype": "text/x-python",
   "name": "python",
   "nbconvert_exporter": "python",
   "pygments_lexer": "ipython3",
   "version": "3.11.9"
  }
 },
 "nbformat": 4,
 "nbformat_minor": 2
}
