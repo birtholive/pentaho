{
 "cells": [
  {
   "cell_type": "code",
   "execution_count": null,
   "metadata": {},
   "outputs": [],
   "source": [
    "import requests\n",
    "from bs4 import BeautifulSoup\n",
    "import wget\n",
    "import os"
   ]
  },
  {
   "cell_type": "code",
   "execution_count": null,
   "metadata": {},
   "outputs": [],
   "source": [
    "\n",
    "link = \"https://www.conab.gov.br/info-agro/safras/serie-historica-das-safras/itemlist/category/913-trigo\"\n",
    "headers = {\"User-Agent\":\"Mozilla/5.0 (Windows NT 10.0; Win64; x64; rv:128.0) Gecko/20100101 Firefox/128.0\"}\n",
    "requisicao = requests.get(link, headers=headers)\n",
    "# print(requisicao)\n",
    "site = BeautifulSoup(requisicao.text, \"html.parser\")\n",
    "# print(site.prettify())\n",
    "# pesquisa = site.find_all(\"a\")\n",
    "# print(pesquisa[1])\n",
    "pesquisa = site.find(\"a\", title=\"TrigoSerieHist.xls\")\n",
    "link_part = pesquisa[\"href\"]\n",
    "site = \"https://www.conab.gov.br\"\n",
    "link = site + link_part\n",
    "\n",
    "# Deletar o arquivo antes de fazer o download\n",
    "try:\n",
    "    os.remove(\"arquivos/trigo.xls\")\n",
    "except OSError as e:\n",
    "    print(f\"Error:{ e.strerror}\")\n",
    "\n",
    "# Fazer o download do arquivo\n",
    "wget.download(link, \"arquivos/trigo.xls\")"
   ]
  },
  {
   "cell_type": "markdown",
   "metadata": {},
   "source": [
    "Tratar arquivos com pandas\n",
    "\n",
    "Bibliotecas utilizadas:\n",
    "    pip install pandas\n",
    "    pip install openpyxl\n",
    "    pip install xlrd"
   ]
  },
  {
   "cell_type": "code",
   "execution_count": null,
   "metadata": {},
   "outputs": [],
   "source": [
    "import pandas as pd\n",
    "import openpyxl"
   ]
  },
  {
   "cell_type": "code",
   "execution_count": null,
   "metadata": {},
   "outputs": [],
   "source": [
    "try:\n",
    "    df = pd.read_excel(\"arquivos/trigo.xls\",sheet_name='Produção')\n",
    "except OSError as e:\n",
    "    print(f\"Error:{ e.strerror}\")\n",
    "\n",
    "df = df.loc[4:38] # selecionando as linhas no intervalo de 4 até 38\n",
    "df.columns = df.iloc[0] # definindo o primeira linha como cabeçalho\n",
    "df = df.drop(4,axis=0) #excluindo a linha 4\n",
    "df = df.rename(columns={'REGIÃO/UF': 'UF'})\n",
    "df.loc[df['UF'].str.len() > 2, 'REGIAO'] =  df['UF']\n",
    "df['REGIAO'] = df['REGIAO'].ffill()\n",
    "df = df.melt(id_vars=['UF','REGIAO'], var_name='ANO', value_name='TOTAL')\n",
    "df = df[df['UF'].str.len() == 2]\n",
    "df = df[df['TOTAL'] > 0]\n",
    "df.reset_index(drop=True, inplace=True)\n",
    "df.to_excel(\"arquivos/trigo.xlsx\", index=False, sheet_name='Produção')\n",
    "display(df)\n",
    "\n",
    "#display(df.describe())"
   ]
  }
 ],
 "metadata": {
  "kernelspec": {
   "display_name": ".venv",
   "language": "python",
   "name": "python3"
  },
  "language_info": {
   "codemirror_mode": {
    "name": "ipython",
    "version": 3
   },
   "file_extension": ".py",
   "mimetype": "text/x-python",
   "name": "python",
   "nbconvert_exporter": "python",
   "pygments_lexer": "ipython3",
   "version": "3.11.9"
  }
 },
 "nbformat": 4,
 "nbformat_minor": 2
}
